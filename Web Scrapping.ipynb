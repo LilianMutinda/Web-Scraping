{
  "cells": [
    {
      "cell_type": "markdown",
      "source": [
        "## **Introduction**\n",
        "Web scraping is the process of collecting and parsing raw data from the Web. This is done by writting a program that accesses and extracts the necessary information. This project aims to scrap data from the [Wuzzf website](https://wuzzuf.net/search/jobs/?q=python&a=hpb) using python tools and libraries such as requests, lxml, BeautifulSoup, zip_longest etc"
      ],
      "metadata": {
        "id": "Atx3qrplMEFP"
      }
    },
    {
      "cell_type": "markdown",
      "source": [
        "### **Installing Scraping Tools**"
      ],
      "metadata": {
        "id": "taqgfASGQwbe"
      }
    },
    {
      "cell_type": "code",
      "execution_count": 1,
      "metadata": {
        "colab": {
          "base_uri": "https://localhost:8080/"
        },
        "id": "U4TaiW8iWfCX",
        "outputId": "3d6cede2-22d4-496b-c639-4c2f411f60d8"
      },
      "outputs": [
        {
          "output_type": "stream",
          "name": "stdout",
          "text": [
            "Requirement already satisfied: requests in /usr/local/lib/python3.10/dist-packages (2.31.0)\n",
            "Requirement already satisfied: charset-normalizer<4,>=2 in /usr/local/lib/python3.10/dist-packages (from requests) (3.3.2)\n",
            "Requirement already satisfied: idna<4,>=2.5 in /usr/local/lib/python3.10/dist-packages (from requests) (3.6)\n",
            "Requirement already satisfied: urllib3<3,>=1.21.1 in /usr/local/lib/python3.10/dist-packages (from requests) (2.0.7)\n",
            "Requirement already satisfied: certifi>=2017.4.17 in /usr/local/lib/python3.10/dist-packages (from requests) (2024.2.2)\n"
          ]
        }
      ],
      "source": [
        "pip install requests"
      ]
    },
    {
      "cell_type": "code",
      "execution_count": 2,
      "metadata": {
        "colab": {
          "base_uri": "https://localhost:8080/"
        },
        "id": "4_SwwE5AWnYM",
        "outputId": "1a6b88e4-82c3-4953-b422-5f512538ca1b"
      },
      "outputs": [
        {
          "output_type": "stream",
          "name": "stdout",
          "text": [
            "Requirement already satisfied: lxml in /usr/local/lib/python3.10/dist-packages (4.9.4)\n"
          ]
        }
      ],
      "source": [
        "pip install lxml"
      ]
    },
    {
      "cell_type": "code",
      "execution_count": 3,
      "metadata": {
        "colab": {
          "base_uri": "https://localhost:8080/"
        },
        "id": "jAgKGwkcWuZs",
        "outputId": "33a9e6ca-d424-420b-9b7e-38f3f62001d9"
      },
      "outputs": [
        {
          "output_type": "stream",
          "name": "stdout",
          "text": [
            "Requirement already satisfied: beautifulsoup4 in /usr/local/lib/python3.10/dist-packages (4.12.3)\n",
            "Requirement already satisfied: soupsieve>1.2 in /usr/local/lib/python3.10/dist-packages (from beautifulsoup4) (2.5)\n"
          ]
        }
      ],
      "source": [
        "pip install beautifulsoup4"
      ]
    },
    {
      "cell_type": "markdown",
      "source": [
        "### **Importing Libraries**"
      ],
      "metadata": {
        "id": "0pz9tHjjRHLB"
      }
    },
    {
      "cell_type": "code",
      "execution_count": 4,
      "metadata": {
        "id": "3P5PNDs2W26B"
      },
      "outputs": [],
      "source": [
        "import requests\n",
        "from bs4 import BeautifulSoup\n",
        "import csv\n",
        "\n",
        "from itertools import zip_longest"
      ]
    },
    {
      "cell_type": "markdown",
      "source": [
        "### **Access the web:**\n",
        "*   Use requests to fetch the URL\n",
        "*   Save page content\n",
        "*   Create soup object to parse content\n",
        "\n",
        "\n",
        "\n"
      ],
      "metadata": {
        "id": "7XBBXYvuROvg"
      }
    },
    {
      "cell_type": "code",
      "execution_count": 5,
      "metadata": {
        "id": "IazvLkreXUW-"
      },
      "outputs": [],
      "source": [
        "#use requests to fetch the URL\n",
        "result= requests.get(\"https://wuzzuf.net/search/jobs/?q=python&a=hpb\")"
      ]
    },
    {
      "cell_type": "code",
      "execution_count": 6,
      "metadata": {
        "id": "96fC3sXhX7G7"
      },
      "outputs": [],
      "source": [
        "#save page content\n",
        "source= result.content"
      ]
    },
    {
      "cell_type": "code",
      "execution_count": 7,
      "metadata": {
        "id": "TN9ONtt0YriF"
      },
      "outputs": [],
      "source": [
        "#create soup object to parse content\n",
        "soup= BeautifulSoup(source, 'lxml')"
      ]
    },
    {
      "cell_type": "markdown",
      "source": [
        "### **Find the specific data needed**:\n",
        "\n",
        "\n",
        "*   Job Title\n",
        "\n",
        "*   Company Name\n",
        "*   Location\n",
        "\n",
        "\n",
        "*   Skills\n",
        "\n"
      ],
      "metadata": {
        "id": "M4ifI-3HU71G"
      }
    },
    {
      "cell_type": "code",
      "execution_count": 8,
      "metadata": {
        "id": "AVd6CM69Y-Cn"
      },
      "outputs": [],
      "source": [
        "jobtitle= soup.find_all('h2', {'class': 'css-m604qf'})\n",
        "company_names= soup.find_all('a',{'class':\"css-17s97q8\"})\n",
        "location= soup.find_all('span', {'class':\"css-5wys0k\"})\n",
        "skills= soup.find_all('div',{'class':\"css-y4udm8\"})"
      ]
    },
    {
      "cell_type": "code",
      "execution_count": 9,
      "metadata": {
        "id": "upsKChlzgrIt"
      },
      "outputs": [],
      "source": [
        "jobtitle_list=[]\n",
        "companynames_list=[]\n",
        "location_list=[]\n",
        "skills_list=[]\n"
      ]
    },
    {
      "cell_type": "code",
      "execution_count": 10,
      "metadata": {
        "id": "_cudSFTWhF_s"
      },
      "outputs": [],
      "source": [
        "for i in range(len(location)):\n",
        "  jobtitle_list.append(jobtitle[i].text)\n",
        "  companynames_list.append(company_names[i].text)\n",
        "  location_list.append(location[i].text)\n",
        "  skills_list.append(skills[i].text)"
      ]
    },
    {
      "cell_type": "code",
      "execution_count": 11,
      "metadata": {
        "colab": {
          "base_uri": "https://localhost:8080/"
        },
        "id": "FV99zvjdinf_",
        "outputId": "bf34760c-b034-4cfc-f7f5-85b0e7a83d1a"
      },
      "outputs": [
        {
          "output_type": "execute_result",
          "data": {
            "text/plain": [
              "['Senior Python Developer (Django - PHP)',\n",
              " 'Python Backend Developer',\n",
              " 'Python/Django Backend Developer',\n",
              " 'Python Developer',\n",
              " 'AI & Data Science Python Developer Intern',\n",
              " 'Python Developer',\n",
              " 'Python Developer',\n",
              " 'Python Developer',\n",
              " 'Remote Senior Python Engineer',\n",
              " 'Remote Python Data Scientist',\n",
              " 'SASE Engineer with Python',\n",
              " 'Python Django Developer',\n",
              " 'AI Research Lead',\n",
              " 'Junior Software Developer',\n",
              " 'Senior odoo developer']"
            ]
          },
          "metadata": {},
          "execution_count": 11
        }
      ],
      "source": [
        "jobtitle_list"
      ]
    },
    {
      "cell_type": "markdown",
      "source": [
        "### **Store the information in a dataframe**"
      ],
      "metadata": {
        "id": "vQ7GLWTfVfHp"
      }
    },
    {
      "cell_type": "code",
      "execution_count": 12,
      "metadata": {
        "colab": {
          "base_uri": "https://localhost:8080/"
        },
        "id": "4CFNi3R5isqu",
        "outputId": "d5453265-63a9-4e33-eda0-400da29c7c06"
      },
      "outputs": [
        {
          "output_type": "stream",
          "name": "stdout",
          "text": [
            "Mounted at /content/drive\n"
          ]
        }
      ],
      "source": [
        "from google.colab import drive\n",
        "drive.mount('/content/drive')"
      ]
    },
    {
      "cell_type": "code",
      "execution_count": 13,
      "metadata": {
        "id": "s28n-xLupPUT"
      },
      "outputs": [],
      "source": [
        "#define the path of the csv file\n",
        "file_path= \"/content/drive/MyDrive/jobsdata.csv\"\n",
        "\n",
        "#all the features\n",
        "file_list= [jobtitle_list, companynames_list, location_list, skills_list]\n",
        "exported= zip_longest(*file_list)\n",
        "\n",
        "#open the fie and write in it. If does not exist, create it\n",
        "with open(file_path, \"w\", newline='', encoding= \"utf-8\") as csvfile:\n",
        "\n",
        " #create a csv writer object in the file\n",
        " csv_writer= csv.writer(csvfile)\n",
        "\n",
        " #write data to the csv file\n",
        " csv_writer.writerow(['Job Title', 'Company Name', 'Location', 'Skills'])\n",
        " csv_writer.writerows(exported)\n"
      ]
    },
    {
      "cell_type": "markdown",
      "source": [
        "## **Conclusion**\n",
        "Below is a representation of the dataframe created from the scraped data. It is noticable that the dataframe only contains the data that is required (Job Title, Company Name, Location and Skills).\n",
        "Web Scraping importance is now evident since data analysis and machine learning steps can now be taken if need be."
      ],
      "metadata": {
        "id": "UtPLSurgWzKp"
      }
    },
    {
      "cell_type": "markdown",
      "source": [
        "![image.png](data:image/png;base64,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)\n"
      ],
      "metadata": {
        "id": "6pKudhVEWVQR"
      }
    }
  ],
  "metadata": {
    "colab": {
      "provenance": [],
      "toc_visible": true
    },
    "kernelspec": {
      "display_name": "Python 3",
      "name": "python3"
    },
    "language_info": {
      "name": "python"
    }
  },
  "nbformat": 4,
  "nbformat_minor": 0
}